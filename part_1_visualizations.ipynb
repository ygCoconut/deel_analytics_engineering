{
 "cells": [
  {
   "cell_type": "code",
   "execution_count": null,
   "metadata": {
    "vscode": {
     "languageId": "plaintext"
    }
   },
   "outputs": [],
   "source": [
    "# TODO: In addition to presenting the model, please provide the code (pseudo-code also suffices) for\n",
    "answering these questions. Feel free to provide the code, the actual answers, a brief description\n",
    "for the analyst, and any charts or images to help with the explanation.\n"
   ]
  }
 ],
 "metadata": {
  "language_info": {
   "name": "python"
  }
 },
 "nbformat": 4,
 "nbformat_minor": 2
}
