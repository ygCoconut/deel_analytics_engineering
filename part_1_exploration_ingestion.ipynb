{
 "cells": [
  {
   "cell_type": "markdown",
   "metadata": {},
   "source": [
    "# For the first part of the challenge, please ingest and model the source data — try following the dbt modeling standards ⭐.\n",
    "## Please include a document with information around:\n",
    "  1. Preliminary data exploration\n",
    "  2. Summary of your model architecture\n",
    "  3. Lineage graphs\n",
    "  4. Tips around macros, data validation, and documentation"
   ]
  },
  {
   "cell_type": "markdown",
   "metadata": {},
   "source": [
    "# Step 1: Data Exploration using profiling"
   ]
  },
  {
   "cell_type": "code",
   "execution_count": 8,
   "metadata": {},
   "outputs": [],
   "source": [
    "from ydata_profiling import ProfileReport\n",
    "import pandas as pd\n",
    "%matplotlib inline"
   ]
  },
  {
   "cell_type": "code",
   "execution_count": 12,
   "metadata": {},
   "outputs": [],
   "source": [
    "df_acceptance = pd.read_csv(\"data/Globepay Acceptance Report - Globepay Acceptance Report.csv\")\n",
    "df_chargeback = pd.read_csv(\"data/Globepay Chargeback Report - Globepay Chargeback Report.csv\")"
   ]
  },
  {
   "cell_type": "code",
   "execution_count": 13,
   "metadata": {},
   "outputs": [
    {
     "data": {
      "text/html": [
       "<div>\n",
       "<style scoped>\n",
       "    .dataframe tbody tr th:only-of-type {\n",
       "        vertical-align: middle;\n",
       "    }\n",
       "\n",
       "    .dataframe tbody tr th {\n",
       "        vertical-align: top;\n",
       "    }\n",
       "\n",
       "    .dataframe thead th {\n",
       "        text-align: right;\n",
       "    }\n",
       "</style>\n",
       "<table border=\"1\" class=\"dataframe\">\n",
       "  <thead>\n",
       "    <tr style=\"text-align: right;\">\n",
       "      <th></th>\n",
       "      <th>external_ref</th>\n",
       "      <th>status</th>\n",
       "      <th>source</th>\n",
       "      <th>ref</th>\n",
       "      <th>date_time</th>\n",
       "      <th>state</th>\n",
       "      <th>cvv_provided</th>\n",
       "      <th>amount</th>\n",
       "      <th>country</th>\n",
       "      <th>currency</th>\n",
       "      <th>rates</th>\n",
       "    </tr>\n",
       "  </thead>\n",
       "  <tbody>\n",
       "    <tr>\n",
       "      <th>0</th>\n",
       "      <td>nCyEIIGaP5QQ2Wqb-_Rt8</td>\n",
       "      <td>True</td>\n",
       "      <td>GLOBALPAY</td>\n",
       "      <td>evt_1ESgcCOV7fY1ChY1MkZizZt</td>\n",
       "      <td>2019-01-01T00:00:00.000Z</td>\n",
       "      <td>DECLINED</td>\n",
       "      <td>False</td>\n",
       "      <td>1020.46</td>\n",
       "      <td>US</td>\n",
       "      <td>USD</td>\n",
       "      <td>{\"CAD\":1.415,\"EUR\":0.926,\"MXN\":25.103,\"USD\":1,...</td>\n",
       "    </tr>\n",
       "    <tr>\n",
       "      <th>1</th>\n",
       "      <td>ptNiI9B7NNpK7VsMZx6zZ</td>\n",
       "      <td>True</td>\n",
       "      <td>GLOBALPAY</td>\n",
       "      <td>evt_1EBMGCEjEtianKMJaZXOx1y</td>\n",
       "      <td>2019-01-01T04:48:00.000Z</td>\n",
       "      <td>ACCEPTED</td>\n",
       "      <td>False</td>\n",
       "      <td>1582.57</td>\n",
       "      <td>US</td>\n",
       "      <td>USD</td>\n",
       "      <td>{\"CAD\":1.415,\"EUR\":0.926,\"MXN\":25.103,\"USD\":1,...</td>\n",
       "    </tr>\n",
       "    <tr>\n",
       "      <th>2</th>\n",
       "      <td>1GS5BDKBnauCt-3nHPs6x</td>\n",
       "      <td>True</td>\n",
       "      <td>GLOBALPAY</td>\n",
       "      <td>evt_1EOALu0AZqEhZBn9ub_nbcE</td>\n",
       "      <td>2019-01-01T09:36:00.000Z</td>\n",
       "      <td>DECLINED</td>\n",
       "      <td>False</td>\n",
       "      <td>1653.07</td>\n",
       "      <td>US</td>\n",
       "      <td>USD</td>\n",
       "      <td>{\"CAD\":1.415,\"EUR\":0.926,\"MXN\":25.103,\"USD\":1,...</td>\n",
       "    </tr>\n",
       "    <tr>\n",
       "      <th>3</th>\n",
       "      <td>Y_oecYz8GjBDaxmMqkkLQ</td>\n",
       "      <td>True</td>\n",
       "      <td>GLOBALPAY</td>\n",
       "      <td>evt_1ESHsWyaSPqE1mrmJ2B6rvs</td>\n",
       "      <td>2019-01-01T14:24:00.000Z</td>\n",
       "      <td>ACCEPTED</td>\n",
       "      <td>False</td>\n",
       "      <td>2228.17</td>\n",
       "      <td>US</td>\n",
       "      <td>USD</td>\n",
       "      <td>{\"CAD\":1.415,\"EUR\":0.926,\"MXN\":25.103,\"USD\":1,...</td>\n",
       "    </tr>\n",
       "    <tr>\n",
       "      <th>4</th>\n",
       "      <td>LlEs1TnKVa2xX6PH9Zsz0</td>\n",
       "      <td>True</td>\n",
       "      <td>GLOBALPAY</td>\n",
       "      <td>evt_1EjzPk13qLzmvDR_4hXuMMw</td>\n",
       "      <td>2019-01-01T19:12:00.000Z</td>\n",
       "      <td>ACCEPTED</td>\n",
       "      <td>False</td>\n",
       "      <td>2589.92</td>\n",
       "      <td>US</td>\n",
       "      <td>USD</td>\n",
       "      <td>{\"CAD\":1.415,\"EUR\":0.926,\"MXN\":25.103,\"USD\":1,...</td>\n",
       "    </tr>\n",
       "  </tbody>\n",
       "</table>\n",
       "</div>"
      ],
      "text/plain": [
       "            external_ref  status     source                          ref  \\\n",
       "0  nCyEIIGaP5QQ2Wqb-_Rt8    True  GLOBALPAY  evt_1ESgcCOV7fY1ChY1MkZizZt   \n",
       "1  ptNiI9B7NNpK7VsMZx6zZ    True  GLOBALPAY  evt_1EBMGCEjEtianKMJaZXOx1y   \n",
       "2  1GS5BDKBnauCt-3nHPs6x    True  GLOBALPAY  evt_1EOALu0AZqEhZBn9ub_nbcE   \n",
       "3  Y_oecYz8GjBDaxmMqkkLQ    True  GLOBALPAY  evt_1ESHsWyaSPqE1mrmJ2B6rvs   \n",
       "4  LlEs1TnKVa2xX6PH9Zsz0    True  GLOBALPAY  evt_1EjzPk13qLzmvDR_4hXuMMw   \n",
       "\n",
       "                  date_time     state  cvv_provided   amount country currency  \\\n",
       "0  2019-01-01T00:00:00.000Z  DECLINED         False  1020.46      US      USD   \n",
       "1  2019-01-01T04:48:00.000Z  ACCEPTED         False  1582.57      US      USD   \n",
       "2  2019-01-01T09:36:00.000Z  DECLINED         False  1653.07      US      USD   \n",
       "3  2019-01-01T14:24:00.000Z  ACCEPTED         False  2228.17      US      USD   \n",
       "4  2019-01-01T19:12:00.000Z  ACCEPTED         False  2589.92      US      USD   \n",
       "\n",
       "                                               rates  \n",
       "0  {\"CAD\":1.415,\"EUR\":0.926,\"MXN\":25.103,\"USD\":1,...  \n",
       "1  {\"CAD\":1.415,\"EUR\":0.926,\"MXN\":25.103,\"USD\":1,...  \n",
       "2  {\"CAD\":1.415,\"EUR\":0.926,\"MXN\":25.103,\"USD\":1,...  \n",
       "3  {\"CAD\":1.415,\"EUR\":0.926,\"MXN\":25.103,\"USD\":1,...  \n",
       "4  {\"CAD\":1.415,\"EUR\":0.926,\"MXN\":25.103,\"USD\":1,...  "
      ]
     },
     "execution_count": 13,
     "metadata": {},
     "output_type": "execute_result"
    }
   ],
   "source": [
    "df_acceptance.head()"
   ]
  },
  {
   "cell_type": "code",
   "execution_count": 14,
   "metadata": {},
   "outputs": [
    {
     "data": {
      "text/html": [
       "<div>\n",
       "<style scoped>\n",
       "    .dataframe tbody tr th:only-of-type {\n",
       "        vertical-align: middle;\n",
       "    }\n",
       "\n",
       "    .dataframe tbody tr th {\n",
       "        vertical-align: top;\n",
       "    }\n",
       "\n",
       "    .dataframe thead th {\n",
       "        text-align: right;\n",
       "    }\n",
       "</style>\n",
       "<table border=\"1\" class=\"dataframe\">\n",
       "  <thead>\n",
       "    <tr style=\"text-align: right;\">\n",
       "      <th></th>\n",
       "      <th>external_ref</th>\n",
       "      <th>status</th>\n",
       "      <th>source</th>\n",
       "      <th>chargeback</th>\n",
       "    </tr>\n",
       "  </thead>\n",
       "  <tbody>\n",
       "    <tr>\n",
       "      <th>0</th>\n",
       "      <td>_-UTDS0dMlagMWEtQKMy-</td>\n",
       "      <td>True</td>\n",
       "      <td>GLOBALPAY</td>\n",
       "      <td>False</td>\n",
       "    </tr>\n",
       "    <tr>\n",
       "      <th>1</th>\n",
       "      <td>_0fqf75KiPa0iiviKCSsU</td>\n",
       "      <td>True</td>\n",
       "      <td>GLOBALPAY</td>\n",
       "      <td>False</td>\n",
       "    </tr>\n",
       "    <tr>\n",
       "      <th>2</th>\n",
       "      <td>_0H9Ecd_RctsLetId-p14</td>\n",
       "      <td>True</td>\n",
       "      <td>GLOBALPAY</td>\n",
       "      <td>False</td>\n",
       "    </tr>\n",
       "    <tr>\n",
       "      <th>3</th>\n",
       "      <td>_0wBrMzAzIhO3fQRWUcBH</td>\n",
       "      <td>True</td>\n",
       "      <td>GLOBALPAY</td>\n",
       "      <td>False</td>\n",
       "    </tr>\n",
       "    <tr>\n",
       "      <th>4</th>\n",
       "      <td>_25jZuGDrmwUEdAwKp1xV</td>\n",
       "      <td>True</td>\n",
       "      <td>GLOBALPAY</td>\n",
       "      <td>False</td>\n",
       "    </tr>\n",
       "  </tbody>\n",
       "</table>\n",
       "</div>"
      ],
      "text/plain": [
       "            external_ref  status     source  chargeback\n",
       "0  _-UTDS0dMlagMWEtQKMy-    True  GLOBALPAY       False\n",
       "1  _0fqf75KiPa0iiviKCSsU    True  GLOBALPAY       False\n",
       "2  _0H9Ecd_RctsLetId-p14    True  GLOBALPAY       False\n",
       "3  _0wBrMzAzIhO3fQRWUcBH    True  GLOBALPAY       False\n",
       "4  _25jZuGDrmwUEdAwKp1xV    True  GLOBALPAY       False"
      ]
     },
     "execution_count": 14,
     "metadata": {},
     "output_type": "execute_result"
    }
   ],
   "source": [
    "df_chargeback.head()"
   ]
  },
  {
   "cell_type": "code",
   "execution_count": 16,
   "metadata": {},
   "outputs": [
    {
     "name": "stderr",
     "output_type": "stream",
     "text": [
      "Summarize dataset: 100%|██████████| 21/21 [00:00<00:00, 47.78it/s, Completed]                    \n",
      "Generate report structure: 100%|██████████| 1/1 [00:01<00:00,  1.65s/it]\n",
      "Render HTML: 100%|██████████| 1/1 [00:00<00:00,  6.70it/s]\n",
      "Export report to file: 100%|██████████| 1/1 [00:00<00:00, 571.20it/s]\n",
      "Summarize dataset: 100%|██████████| 13/13 [00:00<00:00, 105.87it/s, Completed]                  \n",
      "Generate report structure: 100%|██████████| 1/1 [00:00<00:00,  2.21it/s]\n",
      "Render HTML: 100%|██████████| 1/1 [00:00<00:00, 21.40it/s]\n",
      "Export report to file: 100%|██████████| 1/1 [00:00<00:00, 522.20it/s]\n"
     ]
    }
   ],
   "source": [
    "# profiling\n",
    "report_acceptance = ProfileReport(df_acceptance, title=\"Acceptance Report\")\n",
    "report_chargeback = ProfileReport(df_chargeback, title=\"Chargeback Report\")\n",
    "\n",
    "report_acceptance.to_file(\"eda_reports/report_acceptance.html\")\n",
    "report_chargeback.to_file(\"eda_reports/report_chargeback.html\")"
   ]
  },
  {
   "cell_type": "code",
   "execution_count": null,
   "metadata": {},
   "outputs": [],
   "source": []
  },
  {
   "cell_type": "markdown",
   "metadata": {},
   "source": [
    "# Some first remarks after EDA about the DATA INGESTION\n",
    "- The data ingestion will be performed below with vanilla python code, although for scalable use cases we would likely favor an ingestion tool like fivetran or airbyte.\n",
    "- We will use postgres here, although in real life the data would likely be part of a big-data warehouse like e.g. Snowflake.\n",
    "- The data could be ingested quicker with dbt seeds, but this is not the purpose of dbt seeds as the tables are dynamic in a source system.\n"
   ]
  },
  {
   "cell_type": "markdown",
   "metadata": {},
   "source": [
    "# Some first remarks after EDA about the DATA CLEANING for the dbt staging layer\n",
    "### General EDA remarks:\n",
    "- No missing values in any column\n",
    "- status and source columns are constant and can be ignored for this analysis\n",
    "- external ref and ref columns are unique ids. external_ref of chargeback report and acceptance report can be used to merge the two files.\n",
    "- dates provided between 01/01/2019 and 30/01/2029 (Q1 + Q2 2019). Also, we are dealing with 30 transactions a day. Column needs to be formatted.\n",
    "- state var can be changed to a boolean \"is_accepted\"\n",
    "- cvv_provided == True in <1% of cases\n",
    "- Each country has the same number of transactions in this dataset\n",
    "- AE charged in USD.\n",
    "- Amounts in USD can be calculated from currency, amount, and rates\n",
    "- chargeback rate of 4.1% overall\n",
    "- The potentially relevant dimensions for this analysis are \"date_time\", \"state\", \"cvv_provided\", \"amount_usd\" (to be generated), \"country\", \"chargeback\".\n",
    "\n",
    "### How to potentially enrich the data models:\n",
    "- The data models could potentially be enriched, according to the Globepay API documentation. In fact, certain columns are requested by the API, but they aren't available in this dataset, e.g. payment method, expiry month, expiry year, (anonymized) card holder or company name \n",
    "\n",
    "### What this means for the staging layer:\n",
    "1. Set up `_globepay__sources.yml` to ingest data into dbt\n",
    "2. Set up `_globepay__models.yml` with column descriptions and basic test on unique columns\n",
    "3. Implement the models, including column selection and data cleaning as described in the notebook cell above. "
   ]
  },
  {
   "cell_type": "markdown",
   "metadata": {},
   "source": [
    "# Some first remarks after EDA about the DATA MODELING for the dbt marts layer\n",
    "- The two tables can be joined thanks to the `external_refs` column.\n",
    "- The column descriptions can be extracted either from the `Globe API Specification.html` file or inferred.\n",
    "- The column descriptions can be inserted into the `dbt_warehouse/models/marts/payments/_payment__models.yml` file."
   ]
  },
  {
   "cell_type": "code",
   "execution_count": null,
   "metadata": {},
   "outputs": [],
   "source": []
  },
  {
   "cell_type": "markdown",
   "metadata": {},
   "source": [
    "# What will the data lineage graph look like?\n",
    "### 1. Ingestion: The files will be ingested with our vanilla script implemented below\n",
    "  - `data/Globepay Acceptance Report - Globepay Acceptance Report.csv` -> `prod_dwh.raw.src_globepay__acceptance_report`\n",
    "  - `data/Globepay Chargeback Report - Globepay Chargeback Report.csv` -> `prod_dwh.raw.src_globepay__chargeback_report`\n",
    "### 2. Sourcing: The ingested files will be sourced as a dbt model thanks to the file `_globepay__sources.yml`\n",
    "  - `prod_dwh.raw.src_globepay__acceptance_report` -> `src_globepay__acceptance_report`\n",
    "  - `prod_dwh.raw.src_globepay__chargeback_report` -> `src_globepay__chargeback_report`\n",
    "### 3. Staging: The sourced files will be be described thanks to the file `staging/globepay/_globepay__models` and cleaned as a dbt model thanks to the following transformation\n",
    "  - `src_globepay__acceptance_report` -> `stg_globepay__acceptance_report`\n",
    "  - `src_globepay__chargeback_report` -> `stg_globepay__chargeback_report`\n",
    "### 3. Intermediate: Because of low model complexity, we will not use `intermediate` models.\n",
    "### 4. Marts: The staged files will be be described thanks to the file `marts/payments/_payment__models` and transformed as a dbt model thanks to the following transformation\n",
    "  - `stg_globepay__acceptance_report` + `stg_globepay__chargeback_report` -> `acceptance_rate_by_day`\n",
    "  - `stg_globepay__acceptance_report` + `stg_globepay__chargeback_report` -> `amount_declined_over_25m_by_country`\n",
    "  - `stg_globepay__acceptance_report` + `stg_globepay__chargeback_report` -> `transactions_missing_chargeback`\n"
   ]
  },
  {
   "cell_type": "markdown",
   "metadata": {},
   "source": [
    "# Ingestion"
   ]
  },
  {
   "cell_type": "code",
   "execution_count": 24,
   "metadata": {},
   "outputs": [
    {
     "name": "stdout",
     "output_type": "stream",
     "text": [
      "Data successfully written to PostgreSQL!\n"
     ]
    }
   ],
   "source": [
    "import os\n",
    "from sqlalchemy import create_engine\n",
    "from dotenv import load_dotenv\n",
    "\n",
    "load_dotenv()\n",
    "db_user = os.getenv('DB_USER')\n",
    "db_password = os.getenv('DB_PASSWORD')\n",
    "db_host = os.getenv('DB_HOST')\n",
    "db_docker_host = os.getenv('DB_DOCKER_HOST')\n",
    "db_port = int(os.getenv('DB_PORT'))\n",
    "db_name = os.getenv('DB_NAME')\n",
    "db_schema = os.getenv('DB_SCHEMA')\n",
    "\n",
    "\n",
    "db_url = f\"postgresql://{db_user}:{db_password}@{db_host}:{db_port}/{db_name}\"\n",
    "engine = create_engine(db_url)\n",
    "\n",
    "\n",
    "df_acceptance.to_sql(name = \"src_globepay__acceptance_report\", con=engine, schema=db_schema, if_exists='replace', index=False) \n",
    "df_chargeback.to_sql(name = \"src_globepay__chargeback_report\", con=engine, schema=db_schema, if_exists='replace', index=False) \n",
    "print(\"Data successfully written to PostgreSQL!\")\n"
   ]
  },
  {
   "cell_type": "code",
   "execution_count": null,
   "metadata": {},
   "outputs": [],
   "source": []
  }
 ],
 "metadata": {
  "kernelspec": {
   "display_name": "ds",
   "language": "python",
   "name": "python3"
  },
  "language_info": {
   "codemirror_mode": {
    "name": "ipython",
    "version": 3
   },
   "file_extension": ".py",
   "mimetype": "text/x-python",
   "name": "python",
   "nbconvert_exporter": "python",
   "pygments_lexer": "ipython3",
   "version": "3.10.15"
  }
 },
 "nbformat": 4,
 "nbformat_minor": 2
}
